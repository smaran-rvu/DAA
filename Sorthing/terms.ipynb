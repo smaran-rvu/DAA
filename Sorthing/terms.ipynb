{
 "cells": [
  {
   "cell_type": "markdown",
   "metadata": {},
   "source": [
    "# Sorting"
   ]
  },
  {
   "cell_type": "markdown",
   "metadata": {},
   "source": [
    "### Bubble Sort:"
   ]
  },
  {
   "cell_type": "markdown",
   "metadata": {},
   "source": [
    "Objective: go through a list of elements, take an element... if the element is lesser than the current one... swap positions\n",
    "\n",
    "It is an inplace (doesn't create another array) \n",
    "and stable (if there are 2 similar elements at different indices - i and j (such that i < j), the new positions i' and j' should obey the condidion - i' < j'>)\n",
    "searching algorithm"
   ]
  },
  {
   "cell_type": "markdown",
   "metadata": {},
   "source": []
  }
 ],
 "metadata": {
  "language_info": {
   "name": "python"
  },
  "orig_nbformat": 4
 },
 "nbformat": 4,
 "nbformat_minor": 2
}
